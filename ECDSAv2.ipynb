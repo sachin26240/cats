{
  "nbformat": 4,
  "nbformat_minor": 0,
  "metadata": {
    "colab": {
      "name": "ECDSAv2.ipynb",
      "provenance": [],
      "collapsed_sections": [],
      "authorship_tag": "ABX9TyME31H4ERDYRMlVqQOOZYeV",
      "include_colab_link": true
    },
    "kernelspec": {
      "name": "python3",
      "display_name": "Python 3"
    },
    "language_info": {
      "name": "python"
    }
  },
  "cells": [
    {
      "cell_type": "markdown",
      "metadata": {
        "id": "view-in-github",
        "colab_type": "text"
      },
      "source": [
        "<a href=\"https://colab.research.google.com/github/sachin26240/cats/blob/main/ECDSAv2.ipynb\" target=\"_parent\"><img src=\"https://colab.research.google.com/assets/colab-badge.svg\" alt=\"Open In Colab\"/></a>"
      ]
    },
    {
      "cell_type": "markdown",
      "metadata": {
        "id": "cQoNAouL1WVH"
      },
      "source": [
        "# ECDSA"
      ]
    },
    {
      "cell_type": "code",
      "metadata": {
        "id": "eE0-IqkIBjgt"
      },
      "source": [
        "from sympy import mod_inverse\n",
        "INF_POINT = None\n",
        "\n",
        "class EllipticCurve:\n",
        "\tdef __init__(self, p, a, b, n):\n",
        "\t\tself.p = p\n",
        "\t\tself.a = a\n",
        "\t\tself.b = b\n",
        "\t\tself.n = n\n",
        "\n",
        "\n",
        "\tdef addition(self, P1, P2):\n",
        "\t\tif P1 == INF_POINT:\n",
        "\t\t\treturn P2\n",
        "\t\tif P2 == INF_POINT:\n",
        "\t\t\treturn P1\n",
        "\n",
        "\t\t(x1, y1) = P1\n",
        "\t\t(x2, y2) = P2\n",
        "\n",
        "\t\tif self.equal_modp(x1, x2) and self.equal_modp(y1, -y2):\n",
        "\t\t\treturn INF_POINT\n",
        "\n",
        "\t\tif self.equal_modp(x1, x2) and self.equal_modp(y1, y2):\n",
        "\t\t\tu = self.reduce_modp((3 * x1 * x1 + self.a) * self.inverse_modp(2 * y1))\n",
        "\t\telse:\n",
        "\t\t\tu = self.reduce_modp((y1 - y2) * self.inverse_modp(x1 - x2))\n",
        "\n",
        "\t\tv = self.reduce_modp(y1 - u * x1)\n",
        "\t\tx3 = self.reduce_modp(u * u - x1 - x2)\n",
        "\t\ty3 = self.reduce_modp(-u * x3 - v)\n",
        "\t\treturn (x3, y3)\n",
        "\n",
        "\n",
        "\tdef multiple(self, k, P):\n",
        "\t\tQ = INF_POINT\n",
        "\t\twhile k != 0:\n",
        "\t\t\tif k & 1 != 0:\n",
        "\t\t\t\tQ = self.addition(Q, P)\n",
        "\t\t\tP = self.addition(P, P)\n",
        "\t\t\tk >>= 1\n",
        "\t\treturn Q\n",
        "\n",
        "\n",
        "\tdef is_point_on_curve(self, x, y):\n",
        "\t\treturn self.equal_modp(y * y, x * x * x + self.a * x + self.b)\n",
        "\n",
        "\n",
        "\t# helper functions\n",
        "\n",
        "\tdef reduce_modp(self, x):\n",
        "\t\treturn x % self.p\n",
        "\n",
        "\n",
        "\tdef equal_modp(self, x, y):\n",
        "\t\treturn self.reduce_modp(x - y) == 0\n",
        "\n",
        "\n",
        "\tdef inverse_modp(self, x):\n",
        "\t\tif self.reduce_modp(x) == 0:\n",
        "\t\t\treturn None\n",
        "\t\treturn pow(x, p - 2, p)\n",
        "\t\n",
        "\tdef reduce_modn(self, x):\n",
        "\t\treturn x % self.n\n",
        "\n",
        "\n",
        "\tdef equal_modn(self, x, y):\n",
        "\t\treturn self.reduce_modn(x - y) == 0\n",
        "\n",
        "\n",
        "\tdef inverse_modn(self, x):\n",
        "\t\tif self.reduce_modn(x) == 0:\n",
        "\t\t\treturn None\n",
        "\t\treturn pow(x, n - 2, n)\n",
        "\n",
        "\n",
        "p = 6277101735386680763835789423207666416083908700390324961279\n",
        "a = -3\n",
        "b = int(\"64210519E59C80E70FA7E9AB72243049FEB8DEECC146B9B1\",16)\n",
        "n = 6277101735386680763835789423176059013767194773182842284081\n",
        "\n",
        "P224 = EllipticCurve(p, a, b, n)\n",
        "\n",
        "Gx = int('188DA80EB03090F67CBF20EB43A18800F4FF0AFD82FF1012',16)\n",
        "Gy = int('07192B95FFC8DA78631011ED6B24CDD573F977A11E794811',16)\n",
        "G = (Gx, Gy)\n",
        "\n",
        "# print(P224.is_point_on_curve(Gx, Gy))"
      ],
      "execution_count": null,
      "outputs": []
    },
    {
      "cell_type": "code",
      "metadata": {
        "colab": {
          "base_uri": "https://localhost:8080/"
        },
        "id": "ol6-q1LtHLZ_",
        "outputId": "c877e645-4e48-4cde-d4e5-c4cdf0b6cad0"
      },
      "source": [
        "print('Key Generation:')\n",
        "print('G:',G)\n",
        "print('Elliptic Curve: y^2=x^3+',a,'x+',b,'(mod',p,')')"
      ],
      "execution_count": null,
      "outputs": [
        {
          "output_type": "stream",
          "name": "stdout",
          "text": [
            "Key Generation:\n",
            "G: (602046282375688656758213480587526111916698976636884684818, 174050332293622031404857552280219410364023488927386650641)\n",
            "Elliptic Curve: y^2=x^3+ -3 x+ 2455155546008943817740293915197451784769108058161191238065 (mod 6277101735386680763835789423207666416083908700390324961279 )\n"
          ]
        }
      ]
    },
    {
      "cell_type": "code",
      "metadata": {
        "colab": {
          "base_uri": "https://localhost:8080/"
        },
        "id": "bwUQQINwIbRc",
        "outputId": "e56c7aac-bf64-4b11-93c7-5576aa7384af"
      },
      "source": [
        "#private key\n",
        "d=115792089210356248762697446949407573530086143415290314195533631308865484340366\n",
        "# d=3\n",
        "#public key\n",
        "Q=P224.multiple(d,G)\n",
        "print('Private Key:')\n",
        "print(d)\n",
        "print('Public Key:')\n",
        "print(Q)"
      ],
      "execution_count": null,
      "outputs": [
        {
          "output_type": "stream",
          "name": "stdout",
          "text": [
            "Private Key:\n",
            "115792089210356248762697446949407573530086143415290314195533631308865484340366\n",
            "Public Key:\n",
            "(1894437280655356826717713267896407922731253829512200347153, 137840055381254155571961790247539874133478230753304358678)\n"
          ]
        }
      ]
    },
    {
      "cell_type": "code",
      "metadata": {
        "colab": {
          "base_uri": "https://localhost:8080/"
        },
        "id": "KKLxw9c6IbJg",
        "outputId": "fb0aebfe-bc58-459b-dbb1-f17b1d81fd76"
      },
      "source": [
        "#signature generation\n",
        "import hashlib\n",
        "print('Signature Generation:')\n",
        "k=691073039\n",
        "print('k =',k)\n",
        "m='hello'\n",
        "print('m =',m)\n",
        "e = int(hashlib.sha1(m.encode()).hexdigest(),16)\n",
        "print('Hashed Message:',e)"
      ],
      "execution_count": null,
      "outputs": [
        {
          "output_type": "stream",
          "name": "stdout",
          "text": [
            "Signature Generation:\n",
            "k = 691073039\n",
            "m = hello\n",
            "Hashed Message: 975987071262755080377722350727279193143145743181\n"
          ]
        }
      ]
    },
    {
      "cell_type": "code",
      "metadata": {
        "colab": {
          "base_uri": "https://localhost:8080/"
        },
        "id": "af4NswvlO8ch",
        "outputId": "91ca7dfb-91b8-410b-ad50-8d8fe3543f17"
      },
      "source": [
        "#calculate x1,r\n",
        "x=P224.multiple(k,G)\n",
        "print('k x G:',x)\n",
        "x1=x[0]\n",
        "r=x1%n\n",
        "print('r =',r)"
      ],
      "execution_count": null,
      "outputs": [
        {
          "output_type": "stream",
          "name": "stdout",
          "text": [
            "k x G: (5009391581851167523320515380500867018557261816213238223162, 3491543603844729356402651422986775924176839944973180385451)\n",
            "r = 5009391581851167523320515380500867018557261816213238223162\n"
          ]
        }
      ]
    },
    {
      "cell_type": "code",
      "metadata": {
        "colab": {
          "base_uri": "https://localhost:8080/"
        },
        "id": "il6hx8z4QIF0",
        "outputId": "19450bbc-9220-4d0e-dfd1-4dbf57ddc8c0"
      },
      "source": [
        "#calculate s\n",
        "import time\n",
        "start_time = time.time()\n",
        "# from sympy import mod_inverse\n",
        "# inverseK=mod_inverse(k, n)\n",
        "# dr = d*r\n",
        "# dr = (e + dr)%n\n",
        "rd=r*d\n",
        "s = (e+k+rd)%n\n",
        "print('s =',s)\n",
        "print(\"--- %s seconds ---\" % (time.time() - start_time))"
      ],
      "execution_count": null,
      "outputs": [
        {
          "output_type": "stream",
          "name": "stdout",
          "text": [
            "s = 985411044657475582579558441369017877737191951107675112240\n",
            "--- 0.0002818107604980469 seconds ---\n"
          ]
        }
      ]
    },
    {
      "cell_type": "code",
      "metadata": {
        "colab": {
          "base_uri": "https://localhost:8080/"
        },
        "id": "71GnXsvbMjfH",
        "outputId": "f7eca88c-335e-4c2b-d303-b2062943e7d7"
      },
      "source": [
        "#signature verification\n",
        "if r<n and s<n and r>0 and s>0:\n",
        "  w=(s-e)%n\n",
        "  print('w =',w)\n",
        "  wG = P224.multiple(w,G)\n",
        "  rQ = P224.multiple(r,Q)\n",
        "  rQ = (rQ[0],-rQ[1])          #In EC -(x,y) = (x,-y)\n",
        "  X =P224.addition(wG,rQ)\n",
        "  print('X =',X)\n",
        "  v = X[0]%n\n",
        "  print('v =',v)"
      ],
      "execution_count": null,
      "outputs": [
        {
          "output_type": "stream",
          "name": "stdout",
          "text": [
            "w = 985411043681488511316803360991295527009912757964529369059\n",
            "X = (5009391581851167523320515380500867018557261816213238223162, 3491543603844729356402651422986775924176839944973180385451)\n",
            "v = 5009391581851167523320515380500867018557261816213238223162\n"
          ]
        }
      ]
    },
    {
      "cell_type": "code",
      "metadata": {
        "colab": {
          "base_uri": "https://localhost:8080/"
        },
        "id": "bUSvw-lZv25I",
        "outputId": "2453f6e0-f5e2-4662-d56b-eb0665863384"
      },
      "source": [
        "if r == v:\n",
        "  print('Signature Verified')\n",
        "else:\n",
        "  print('Signature Not Verified')"
      ],
      "execution_count": null,
      "outputs": [
        {
          "output_type": "stream",
          "name": "stdout",
          "text": [
            "Signature Verified\n"
          ]
        }
      ]
    },
    {
      "cell_type": "code",
      "metadata": {
        "colab": {
          "base_uri": "https://localhost:8080/"
        },
        "id": "Cwr6bxKUPDWV",
        "outputId": "3ca7a0c2-8ee9-4b0f-e403-a7122eb76b46"
      },
      "source": [
        "#step3 time taken\n",
        "start_time = time.time()\n",
        "w=(s-e)%n\n",
        "print(w)\n",
        "print(\"--- %s seconds ---\" % (time.time() - start_time))"
      ],
      "execution_count": null,
      "outputs": [
        {
          "output_type": "stream",
          "name": "stdout",
          "text": [
            "985411043681488511316803360991295527009912757964529369059\n",
            "--- 0.0004646778106689453 seconds ---\n"
          ]
        }
      ]
    },
    {
      "cell_type": "markdown",
      "metadata": {
        "id": "c2T29dwBQHSp"
      },
      "source": [
        "Men in Middle Attack"
      ]
    },
    {
      "cell_type": "code",
      "metadata": {
        "id": "ktQG7GpeQK_Z"
      },
      "source": [
        "m=\"Hello, I am Sender\"\n",
        "m1=\"Hello, I am Intuder\"\n"
      ],
      "execution_count": null,
      "outputs": []
    }
  ]
}